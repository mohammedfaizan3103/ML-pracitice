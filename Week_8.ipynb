{
  "nbformat": 4,
  "nbformat_minor": 0,
  "metadata": {
    "colab": {
      "provenance": [],
      "authorship_tag": "ABX9TyMBCYjlTPyoSFp55LZDgxkP",
      "include_colab_link": true
    },
    "kernelspec": {
      "name": "python3",
      "display_name": "Python 3"
    },
    "language_info": {
      "name": "python"
    }
  },
  "cells": [
    {
      "cell_type": "markdown",
      "metadata": {
        "id": "view-in-github",
        "colab_type": "text"
      },
      "source": [
        "<a href=\"https://colab.research.google.com/github/mohammedfaizan3103/ML-pracitice/blob/main/Week_8.ipynb\" target=\"_parent\"><img src=\"https://colab.research.google.com/assets/colab-badge.svg\" alt=\"Open In Colab\"/></a>"
      ]
    },
    {
      "cell_type": "markdown",
      "source": [
        "# **WEEK-8 Ensemble Learning**"
      ],
      "metadata": {
        "id": "zAsW34deQl0L"
      }
    },
    {
      "cell_type": "code",
      "source": [
        "import warnings\n",
        "warnings.filterwarnings('ignore')"
      ],
      "metadata": {
        "id": "BBtDeT08h6Wc"
      },
      "execution_count": 2,
      "outputs": []
    },
    {
      "cell_type": "code",
      "source": [
        "#loading dataset and performing preprocessing\n",
        "import pandas as pd\n",
        "from sklearn.model_selection import train_test_split\n",
        "\n",
        "df = pd.read_csv(\"/content/drive/MyDrive/ML-lab/Datasets/diabetes_DT.csv\")\n",
        "df.columns\n",
        "X = df.drop('Outcome', axis = 1)\n",
        "y = df['Outcome']\n",
        "\n",
        "print(df.shape)\n",
        "\n",
        "X = pd.get_dummies(X, drop_first = True)\n",
        "X = X.fillna(X.mean())\n",
        "\n",
        "df.head()\n",
        "print(df.shape)"
      ],
      "metadata": {
        "colab": {
          "base_uri": "https://localhost:8080/"
        },
        "id": "aV63yvWhTvS5",
        "outputId": "7d4387c3-89b1-4394-dff8-363349bd20fb"
      },
      "execution_count": 3,
      "outputs": [
        {
          "output_type": "stream",
          "name": "stdout",
          "text": [
            "(768, 9)\n",
            "(768, 9)\n"
          ]
        }
      ]
    },
    {
      "cell_type": "markdown",
      "source": [
        "1. Write a program that demonstrates the advantage of ensemble learning compared to a\n",
        "single classifier.\n",
        "Apply a Decision Tree and a Random Forest (RF) classifier on a given dataset.\n",
        "Compare their performance using evaluation metrics such as accuracy, precision, recall,\n",
        "and F1-score.\n",
        "Explore the effect of changing the number of estimators (decision trees) in Random\n",
        "Forest. Write clear observations with justification.\n",
        "Intermediate Questions:\n",
        " - What differences do you observe between the Decision Tree and Random Forest\n",
        "results?\n",
        " - How does increasing the number of estimators affect performance and stability?\n",
        " - Why does Random Forest generally perform better than a single Decision Tree?"
      ],
      "metadata": {
        "id": "N4ji-0uDQ9V-"
      }
    },
    {
      "cell_type": "code",
      "source": [
        "#comparing ensemble learning and single dt classifier\n",
        "import pandas as pd\n",
        "from sklearn.tree import DecisionTreeClassifier\n",
        "from sklearn.ensemble import RandomForestClassifier\n",
        "from sklearn.model_selection import train_test_split\n",
        "from sklearn.metrics import accuracy_score, precision_score, recall_score, f1_score\n",
        "\n",
        "df = pd.read_csv(\"/content/drive/MyDrive/ML-lab/Datasets/diabetes_DT.csv\")\n",
        "X = df.drop('Outcome', axis = 1)\n",
        "y = df['Outcome']\n",
        "X = pd.get_dummies(X, drop_first = True)\n",
        "X = X.fillna(X.mean())\n",
        "X_train, X_test, y_train, y_test = train_test_split(X, y, random_state=42, test_size=0.2)\n",
        "\n",
        "# using decisiontree classifier\n",
        "dt_model = DecisionTreeClassifier(random_state=12)\n",
        "dt_model.fit(X_train, y_train)\n",
        "y_pred_dt = dt_model.predict(X_test)\n",
        "\n",
        "dt_accuracy = accuracy_score(y_test, y_pred_dt)\n",
        "dt_precision = precision_score(y_test, y_pred_dt, average='weighted')\n",
        "dt_recall = recall_score(y_test, y_pred_dt, average='weighted')\n",
        "dt_f1 = f1_score(y_test, y_pred_dt, average='weighted')\n",
        "\n",
        "#using RandomForest classifier\n",
        "rf_model = RandomForestClassifier(n_estimators=100, random_state=42) #change in variation of estimators and randomstate\n",
        "rf_model.fit(X_train, y_train)\n",
        "y_pred_rf = rf_model.predict(X_test)\n",
        "\n",
        "rf_accuracy = accuracy_score(y_test, y_pred_rf)\n",
        "rf_precision = precision_score(y_test, y_pred_rf, average='weighted')\n",
        "rf_recall = recall_score(y_test, y_pred_rf, average='weighted')\n",
        "rf_f1 = f1_score(y_test, y_pred_rf, average='weighted')\n",
        "\n",
        "print(f\"Decision Tree metrics: \")\n",
        "print(f\"Accuracy: {dt_accuracy}\")\n",
        "print(f\"Precision: {dt_precision}\")\n",
        "print(f\"Recall: {dt_recall:}\")\n",
        "print(f\"F1-score: {dt_f1}\")\n",
        "\n",
        "print(\"\\nRandom Forest metrics\")\n",
        "print(f\"Accuracy: {rf_accuracy}\")\n",
        "print(f\"Precision: {rf_precision}\")\n",
        "print(f\"Recall: {rf_recall}\")\n",
        "print(f\"F1-score: {rf_f1}\")"
      ],
      "metadata": {
        "colab": {
          "base_uri": "https://localhost:8080/"
        },
        "id": "dMrDRSBwQsf_",
        "outputId": "8d4766ed-fe55-4c6a-df1c-5ea1d35d0504"
      },
      "execution_count": 4,
      "outputs": [
        {
          "output_type": "stream",
          "name": "stdout",
          "text": [
            "Decision Tree metrics: \n",
            "Accuracy: 0.7467532467532467\n",
            "Precision: 0.7557102785013023\n",
            "Recall: 0.7467532467532467\n",
            "F1-score: 0.7496883570181999\n",
            "\n",
            "Random Forest metrics\n",
            "Accuracy: 0.7207792207792207\n",
            "Precision: 0.721938775510204\n",
            "Recall: 0.7207792207792207\n",
            "F1-score: 0.7213282898562086\n"
          ]
        }
      ]
    },
    {
      "cell_type": "code",
      "source": [
        "#observation: when number of estimators is high in randomforest, the metrics decrease in value\n",
        "#as n_estimators increase, the metrics are decreasing"
      ],
      "metadata": {
        "id": "huwbXJz0chun"
      },
      "execution_count": 5,
      "outputs": []
    },
    {
      "cell_type": "code",
      "source": [
        "#practice using Iris dataset\n",
        "from sklearn.datasets import load_iris\n",
        "from sklearn.model_selection import train_test_split\n",
        "from sklearn.tree import DecisionTreeClassifier\n",
        "from sklearn.ensemble import RandomForestClassifier\n",
        "from sklearn.metrics import accuracy_score\n",
        "\n",
        "iris = load_iris()\n",
        "X, y = iris.data, iris.target\n",
        "\n",
        "X_train, X_test, y_train, y_test = train_test_split(X, y, test_size=0.3, random_state=42)\n",
        "\n",
        "dt_model = DecisionTreeClassifier(random_state=42)\n",
        "dt_model.fit(X_train, y_train)\n",
        "dt_pred = dt_model.predict(X_test)\n",
        "dt_accuracy = accuracy_score(y_test, dt_pred)\n",
        "\n",
        "\n",
        "rf_model = RandomForestClassifier(n_estimators=100, random_state=42)\n",
        "rf_model.fit(X_train, y_train)\n",
        "rf_pred = rf_model.predict(X_test)\n",
        "rf_accuracy = accuracy_score(y_test, rf_pred)\n",
        "\n",
        "# Print results\n",
        "print(f\"Decision Tree Accuracy: {dt_accuracy:.2f}\")\n",
        "print(f\"Random Forest (Ensemble) Accuracy: {rf_accuracy:.2f}\")\n"
      ],
      "metadata": {
        "colab": {
          "base_uri": "https://localhost:8080/"
        },
        "id": "u8DDeGcOXy_w",
        "outputId": "0296968d-0dcf-487c-e5d7-01ffbb583787"
      },
      "execution_count": 6,
      "outputs": [
        {
          "output_type": "stream",
          "name": "stdout",
          "text": [
            "Decision Tree Accuracy: 1.00\n",
            "Random Forest (Ensemble) Accuracy: 1.00\n"
          ]
        }
      ]
    },
    {
      "cell_type": "markdown",
      "source": [
        "2. Write a program that demonstrates the use of simple ensemble techniques: Max Voting,\n",
        "Average Voting, and Weighted Average Voting (assign weights based on each models\n",
        "performance).\n",
        "Apply these techniques on a suitable dataset and compare results.\n",
        "Intermediate Questions:\n",
        " - How do the results vary between max voting, average voting, and weighted voting?\n",
        " - What is the role of weights in improving ensemble predictions?\n",
        " - Which base classifiers combine most effectively under each voting scheme?"
      ],
      "metadata": {
        "id": "FMEiDTGERnBV"
      }
    },
    {
      "cell_type": "code",
      "source": [
        "# Import libraries\n",
        "import pandas as pd\n",
        "from sklearn.model_selection import train_test_split\n",
        "from sklearn.preprocessing import StandardScaler\n",
        "\n",
        "# Load Diabetes dataset\n",
        "df = pd.read_csv(\"/content/drive/MyDrive/ML-lab/Datasets/diabetes_DT.csv\")\n",
        "\n",
        "# Handle missing values if any\n",
        "df = df.dropna()\n",
        "\n",
        "# Split features and target\n",
        "X = df.drop('Outcome', axis=1)\n",
        "y = df['Outcome']\n",
        "\n",
        "# Feature scaling\n",
        "scaler = StandardScaler()\n",
        "X_scaled = scaler.fit_transform(X)\n",
        "\n",
        "# Train-test split\n",
        "X_train, X_test, y_train, y_test = train_test_split(X_scaled, y, test_size=0.2, random_state=42)\n"
      ],
      "metadata": {
        "id": "LVMzAq25RtUu"
      },
      "execution_count": 7,
      "outputs": []
    },
    {
      "cell_type": "code",
      "source": [
        "from sklearn.linear_model import LogisticRegression\n",
        "from sklearn.neighbors import KNeighborsClassifier\n",
        "from sklearn.ensemble import VotingClassifier\n",
        "\n",
        "# Base models\n",
        "lr = LogisticRegression()\n",
        "knn = KNeighborsClassifier()\n",
        "dt = DecisionTreeClassifier()\n",
        "\n",
        "# Max (Hard) Voting\n",
        "voting_hard = VotingClassifier(estimators=[('lr', lr), ('knn', knn), ('dt', dt)], voting='hard')\n",
        "voting_hard.fit(X_train, y_train)\n",
        "print(\"Hard Voting Accuracy:\", voting_hard.score(X_test, y_test))\n",
        "\n",
        "# Average (Soft) Voting\n",
        "voting_soft = VotingClassifier(estimators=[('lr', lr), ('knn', knn), ('dt', dt)], voting='soft')\n",
        "voting_soft.fit(X_train, y_train)\n",
        "print(\"Soft Voting Accuracy:\", voting_soft.score(X_test, y_test))\n"
      ],
      "metadata": {
        "colab": {
          "base_uri": "https://localhost:8080/"
        },
        "id": "gwCKo87SROmm",
        "outputId": "8233534d-88ea-4e4a-f7c1-127c99d91a8c"
      },
      "execution_count": 8,
      "outputs": [
        {
          "output_type": "stream",
          "name": "stdout",
          "text": [
            "Hard Voting Accuracy: 0.7597402597402597\n",
            "Soft Voting Accuracy: 0.7727272727272727\n"
          ]
        }
      ]
    },
    {
      "cell_type": "markdown",
      "source": [
        "3. Write a program to show the difference between Hard Voting and Soft Voting classifiers\n",
        "in ensemble learning using multiple base learners (e.g., Decision Tree, Logistic\n",
        "Regression, and KNN).\n",
        "Intermediate Questions:\n",
        " - What is the main difference in prediction mechanisms between hard and soft\n",
        "voting?\n",
        " - In which situations does soft voting outperform hard voting?\n",
        " - How does the probability calibration of base classifiers influence soft voting?"
      ],
      "metadata": {
        "id": "ZOzDzP_URwbf"
      }
    },
    {
      "cell_type": "code",
      "source": [
        "#hard voting soft voting for HETEROGENEOUS\n",
        "import pandas as pd\n",
        "import numpy as np\n",
        "from sklearn.ensemble import VotingClassifier\n",
        "from sklearn.tree import DecisionTreeClassifier\n",
        "from sklearn.linear_model import LogisticRegression\n",
        "from sklearn.neighbors import KNeighborsClassifier\n",
        "from sklearn.model_selection import train_test_split, cross_val_score\n",
        "from sklearn.metrics import accuracy_score\n",
        "\n",
        "df = pd.read_csv(\"/content/drive/MyDrive/ML-lab/Datasets/diabetes_DT.csv\")\n",
        "X = df.drop('Outcome', axis = 1)\n",
        "y = df['Outcome']\n",
        "# X = pd.get_dummies(X, drop_first = True)\n",
        "# X.fillna(X.mean(), inplace = True)\n",
        "X_train, X_test, y_train, y_test = train_test_split(X, y, test_size=0.3, random_state=42)\n",
        "\n",
        "estimator = []\n",
        "estimator.append(('LR',LogisticRegression(solver ='lbfgs', multi_class ='multinomial',max_iter = 100)))\n",
        "estimator.append(('DTC', DecisionTreeClassifier()))\n",
        "estimator.append(('KNN', KNeighborsClassifier()))\n",
        "\n",
        "#hardvoting\n",
        "hard = VotingClassifier(estimators = estimator, voting ='hard')\n",
        "hard.fit(X_train, y_train)\n",
        "y_pred = hard.predict(X_test)\n",
        "print(\"Hard Voting Accuracy: \", accuracy_score(y_test, y_pred))\n",
        "\n",
        "#softvoting\n",
        "soft = VotingClassifier(estimators = estimator, voting = 'soft')\n",
        "soft.fit(X_train, y_train)\n",
        "y_pred_soft = soft.predict(X_test)\n",
        "print(\"Soft Voting Accuracy: \", accuracy_score(y_test, y_pred_soft))"
      ],
      "metadata": {
        "colab": {
          "base_uri": "https://localhost:8080/"
        },
        "id": "qnzkNEkuRx_y",
        "outputId": "fa352ad9-6e95-4693-ca8f-569f8a76d2d2"
      },
      "execution_count": 9,
      "outputs": [
        {
          "output_type": "stream",
          "name": "stdout",
          "text": [
            "Hard Voting Accuracy:  0.7316017316017316\n",
            "Soft Voting Accuracy:  0.7142857142857143\n"
          ]
        }
      ]
    },
    {
      "cell_type": "code",
      "source": [
        "#HOMOGENOUS Ensemble\n",
        "from sklearn.metrics import accuracy_score\n",
        "from sklearn.ensemble import VotingClassifier\n",
        "from sklearn.tree import DecisionTreeClassifier\n",
        "\n",
        "estimators = [\n",
        "    ('DTC1', DecisionTreeClassifier(max_depth=3, random_state=1)),\n",
        "    ('DTC2', DecisionTreeClassifier(max_depth=5, random_state=2)),\n",
        "    ('DTC3', DecisionTreeClassifier(max_depth=7, random_state=3))\n",
        "]\n",
        "\n",
        "#Hard Voting\n",
        "homo_hard = VotingClassifier(estimators=estimators, voting='hard')\n",
        "homo_hard.fit(X_train, y_train)\n",
        "y_pred_hard = homo_hard.predict(X_test)\n",
        "print(\"Hard Voting Accuracy:\", accuracy_score(y_test, y_pred_hard))\n",
        "\n",
        "#Soft Voting\n",
        "homo_soft = VotingClassifier(estimators=estimators, voting='soft')\n",
        "homo_soft.fit(X_train, y_train)\n",
        "y_pred_soft = homo_soft.predict(X_test)\n",
        "print(\"Soft Voting Accuracy:\", accuracy_score(y_test, y_pred_soft))\n"
      ],
      "metadata": {
        "colab": {
          "base_uri": "https://localhost:8080/"
        },
        "id": "3kn-FyDEj0Yo",
        "outputId": "3848722a-a192-4793-f5ac-dff85e91d8f8"
      },
      "execution_count": 10,
      "outputs": [
        {
          "output_type": "stream",
          "name": "stdout",
          "text": [
            "Hard Voting Accuracy: 0.7229437229437229\n",
            "Soft Voting Accuracy: 0.70995670995671\n"
          ]
        }
      ]
    },
    {
      "cell_type": "markdown",
      "source": [
        "4. Write a program to explore the Bagging technique using the RandomForestClassifier on a\n",
        "suitable dataset.\n",
        "Experiment with parameters such as number of estimators, maximum depth, and random\n",
        "state.\n",
        "Write detailed observations and justify the changes in model performance.\n",
        "Intermediate Questions:\n",
        " - How do different values of n_estimators and max_depth affect model performance?\n",
        " - What does Bagging achieve in terms of variance and bias reduction?\n",
        " - How does Random Forest handle overfitting compared to a single Decision Tree?"
      ],
      "metadata": {
        "id": "uRw9NdtIRxyB"
      }
    },
    {
      "cell_type": "code",
      "source": [
        "import pandas as pd\n",
        "from sklearn.model_selection import train_test_split\n",
        "from sklearn.preprocessing import StandardScaler\n",
        "from sklearn.ensemble import RandomForestClassifier\n",
        "from sklearn.metrics import accuracy_score\n",
        "\n",
        "# Load dataset\n",
        "df = pd.read_csv(\"/content/drive/MyDrive/ML-lab/Datasets/diabetes_DT.csv\")\n",
        "X = df.drop('Outcome', axis=1)\n",
        "y = df['Outcome']\n",
        "\n",
        "X_train, X_test, y_train, y_test = train_test_split(X, y, test_size=0.3, random_state=42)\n",
        "scaler = StandardScaler()\n",
        "X_train_scaled = scaler.fit_transform(X_train)\n",
        "X_test_scaled = scaler.transform(X_test)\n",
        "params = [\n",
        "    {'n_estimators': 10, 'max_depth': 3},\n",
        "    {'n_estimators': 50, 'max_depth': 3},\n",
        "    {'n_estimators': 100, 'max_depth': None},\n",
        "    {'n_estimators': 200, 'max_depth': 5}\n",
        "]\n",
        "\n",
        "for p in params:\n",
        "    rf = RandomForestClassifier(\n",
        "        n_estimators=p['n_estimators'],\n",
        "        max_depth=p['max_depth'],\n",
        "        random_state=42\n",
        "    )\n",
        "    rf.fit(X_train_scaled, y_train)\n",
        "    y_pred = rf.predict(X_test_scaled)\n",
        "    acc = accuracy_score(y_test, y_pred)\n",
        "    print(f\"n_estimators={p['n_estimators']}, max_depth={p['max_depth']}, Accuracy={acc}\")\n"
      ],
      "metadata": {
        "colab": {
          "base_uri": "https://localhost:8080/"
        },
        "id": "pNcixdiQR2Sy",
        "outputId": "2d1bc37e-606c-44fa-f53b-26fa7a17f250"
      },
      "execution_count": 11,
      "outputs": [
        {
          "output_type": "stream",
          "name": "stdout",
          "text": [
            "n_estimators=10, max_depth=3, Accuracy=0.7662337662337663\n",
            "n_estimators=50, max_depth=3, Accuracy=0.7575757575757576\n",
            "n_estimators=100, max_depth=None, Accuracy=0.7575757575757576\n",
            "n_estimators=200, max_depth=5, Accuracy=0.7575757575757576\n"
          ]
        }
      ]
    },
    {
      "cell_type": "markdown",
      "source": [
        "5. Write a program using the RandomForestRegressor model to make predictions on a\n",
        "suitable regression dataset.\n",
        "Enable and observe the oob_score (Out-of-Bag score) parameter.\n",
        "Interpret the results and explain its significance.\n",
        "Intermediate Questions:\n",
        " - What does the oob_score_ indicate about model performance?\n",
        " - How does Out-of-Bag evaluation differ from traditional test-set evaluation?\n",
        " - How does the OOB score change with different numbers of trees?"
      ],
      "metadata": {
        "id": "kLAsvm2uR158"
      }
    },
    {
      "cell_type": "code",
      "source": [
        "# Import libraries\n",
        "import pandas as pd\n",
        "from sklearn.model_selection import train_test_split\n",
        "from sklearn.preprocessing import StandardScaler\n",
        "\n",
        "# Load Diabetes dataset\n",
        "df = pd.read_csv(\"/content/drive/MyDrive/ML-lab/Datasets/diabetes_DT.csv\")\n",
        "\n",
        "# Handle missing values if any\n",
        "df = df.dropna()\n",
        "\n",
        "# Split features and target\n",
        "X = df.drop('Outcome', axis=1)\n",
        "y = df['Outcome']\n",
        "\n",
        "# Feature scaling\n",
        "scaler = StandardScaler()\n",
        "X_scaled = scaler.fit_transform(X)\n",
        "\n",
        "# Train-test split\n",
        "X_train, X_test, y_train, y_test = train_test_split(X_scaled, y, test_size=0.2, random_state=42)"
      ],
      "metadata": {
        "id": "-9C5zQ_dR6WU"
      },
      "execution_count": 12,
      "outputs": []
    },
    {
      "cell_type": "code",
      "source": [
        "from sklearn.ensemble import RandomForestRegressor\n",
        "from sklearn.metrics import r2_score\n",
        "\n",
        "rfreg = RandomForestRegressor(n_estimators=100, oob_score=True, random_state=42)\n",
        "rfreg.fit(X_train, y_train)\n",
        "y_pred = rfreg.predict(X_test)\n",
        "\n",
        "print(\"OOB Score:\", rfreg.oob_score_)\n",
        "print(\"R2 Score:\", r2_score(y_test, y_pred))\n"
      ],
      "metadata": {
        "colab": {
          "base_uri": "https://localhost:8080/"
        },
        "id": "T-UarW1Na_8d",
        "outputId": "c8ec99b8-1b2f-4347-99a5-679c6a71b249"
      },
      "execution_count": 13,
      "outputs": [
        {
          "output_type": "stream",
          "name": "stdout",
          "text": [
            "OOB Score: 0.2930007894573772\n",
            "R2 Score: 0.2551886868686867\n"
          ]
        }
      ]
    },
    {
      "cell_type": "markdown",
      "source": [
        "6. Exploring Boosting Techniques\n",
        "Task:\n",
        "Write a program to explore different Boosting techniques using suitable datasets:\n",
        "Adaptive Boosting (AdaBoost) – binary classification,\n",
        "Gradient Boosting – classification and regression,\n",
        "XGBoost,\n",
        "CatBoost.\n",
        "Write your observations for each model, highlighting how it improves over the previous\n",
        "iterations and corrects earlier errors.\n",
        "Intermediate Questions:\n",
        " - How does AdaBoost focus on misclassified samples?\n",
        " - What makes Gradient Boosting more flexible than AdaBoost?\n",
        " - How do XGBoost and CatBoost optimize training speed and accuracy?\n",
        " - Which boosting algorithm provided the best trade-off between performance and\n",
        "computation time?"
      ],
      "metadata": {
        "id": "eWAVqlQvbaRS"
      }
    },
    {
      "cell_type": "code",
      "source": [
        "# Import libraries\n",
        "import pandas as pd\n",
        "from sklearn.model_selection import train_test_split\n",
        "from sklearn.preprocessing import StandardScaler\n",
        "\n",
        "# Load Diabetes dataset\n",
        "df = pd.read_csv(\"/content/drive/MyDrive/ML-lab/Datasets/diabetes_DT.csv\")\n",
        "\n",
        "# Handle missing values if any\n",
        "df = df.dropna()\n",
        "\n",
        "# Split features and target\n",
        "X = df.drop('Outcome', axis=1)\n",
        "y = df['Outcome']\n",
        "\n",
        "# Feature scaling\n",
        "scaler = StandardScaler()\n",
        "X_scaled = scaler.fit_transform(X)\n",
        "\n",
        "# Train-test split\n",
        "X_train, X_test, y_train, y_test = train_test_split(X_scaled, y, test_size=0.2, random_state=42)"
      ],
      "metadata": {
        "id": "CZ-D7jXBeE3l"
      },
      "execution_count": 14,
      "outputs": []
    },
    {
      "cell_type": "code",
      "source": [
        "from sklearn.ensemble import AdaBoostClassifier, GradientBoostingClassifier\n",
        "from xgboost import XGBClassifier\n",
        "# from catboost import CatBoostClassifier\n",
        "\n",
        "# AdaBoost\n",
        "ada = AdaBoostClassifier(n_estimators=100, random_state=42)\n",
        "ada.fit(X_train, y_train)\n",
        "print(\"AdaBoost Accuracy:\", ada.score(X_test, y_test))\n",
        "\n",
        "# observation:\n",
        "# it focuses on misclassified samples\n",
        "# accuracy improves over iterations but it is sensitive to noise/outliers\n",
        "\n",
        "# Gradient Boosting\n",
        "gb = GradientBoostingClassifier(n_estimators=100, random_state=42)\n",
        "gb.fit(X_train, y_train)\n",
        "print(\"Gradient Boosting Accuracy:\", gb.score(X_test, y_test))\n",
        "\n",
        "# XGBoost\n",
        "xgb = XGBClassifier(\n",
        "    n_estimators=100,\n",
        "    learning_rate=0.05,\n",
        "    max_depth=3,\n",
        "    subsample=0.8,\n",
        "    colsample_bytree=0.8,\n",
        "    eval_metric='logloss',\n",
        "    random_state=42\n",
        ")\n",
        "xgb.fit(X_train, y_train)\n",
        "print(\"XGBoost Accuracy:\", xgb.score(X_test, y_test))\n",
        "\n",
        "# observation:\n",
        "# it is faster and often more accurate than Gradient Boosting"
      ],
      "metadata": {
        "colab": {
          "base_uri": "https://localhost:8080/"
        },
        "id": "TTu1ePQ_bi-N",
        "outputId": "59797047-08c8-477b-ced2-716351f5a767"
      },
      "execution_count": 15,
      "outputs": [
        {
          "output_type": "stream",
          "name": "stdout",
          "text": [
            "AdaBoost Accuracy: 0.7402597402597403\n",
            "Gradient Boosting Accuracy: 0.7402597402597403\n",
            "XGBoost Accuracy: 0.7597402597402597\n"
          ]
        }
      ]
    },
    {
      "cell_type": "markdown",
      "source": [
        "7. Comparative Study of Ensemble Models\n",
        "Task:\n",
        "Apply all ensemble models (Bagging, Random Forest, AdaBoost, Gradient Boosting,\n",
        "XGBoost, and CatBoost) on the same dataset.\n",
        "Prepare a detailed report comparing their results based on accuracy, training time, model\n",
        "interpretability, and overfitting/underfitting behavior.\n",
        "Intermediate Questions:\n",
        " - Which model achieved the best performance?\n",
        " - Why did that model perform better than others?\n",
        " - What trade-offs (speed, interpretability, complexity) did you observe across models?\n",
        " - Which ensemble method would you recommend for large-scale real-world data and\n",
        "why?"
      ],
      "metadata": {
        "id": "BRkm8hYDg3Dn"
      }
    },
    {
      "cell_type": "code",
      "source": [
        "# Import libraries\n",
        "import pandas as pd\n",
        "from sklearn.model_selection import train_test_split\n",
        "from sklearn.preprocessing import StandardScaler\n",
        "\n",
        "# Load Diabetes dataset\n",
        "df = pd.read_csv(\"/content/drive/MyDrive/ML-lab/Datasets/diabetes_DT.csv\")\n",
        "\n",
        "# Handle missing values if any\n",
        "df = df.dropna()\n",
        "\n",
        "# Split features and target\n",
        "X = df.drop('Outcome', axis=1)\n",
        "y = df['Outcome']\n",
        "\n",
        "# Feature scaling\n",
        "scaler = StandardScaler()\n",
        "X_scaled = scaler.fit_transform(X)\n",
        "\n",
        "# Train-test split\n",
        "X_train, X_test, y_train, y_test = train_test_split(X_scaled, y, test_size=0.2, random_state=42)\n",
        "models = {\n",
        "    \"Bagging (RF)\": RandomForestClassifier(n_estimators=100, random_state=42),\n",
        "    \"AdaBoost\": AdaBoostClassifier(n_estimators=100, random_state=42),\n",
        "    \"Gradient Boosting\": GradientBoostingClassifier(n_estimators=100, random_state=42),\n",
        "    \"XGBoost\": XGBClassifier(\n",
        "    n_estimators=100,\n",
        "    learning_rate=0.05,\n",
        "    max_depth=3,\n",
        "    subsample=0.8,\n",
        "    colsample_bytree=0.8,\n",
        "    eval_metric='logloss',\n",
        "    random_state=42\n",
        "),\n",
        "}\n",
        "\n",
        "for name, model in models.items():\n",
        "    model.fit(X_train, y_train)\n",
        "    print(f\"{name} Accuracy: {model.score(X_test, y_test)}\")\n"
      ],
      "metadata": {
        "colab": {
          "base_uri": "https://localhost:8080/"
        },
        "id": "8LN3tNr1gyYc",
        "outputId": "04bb8372-2be7-4ba2-83a6-3fb18ea19c93"
      },
      "execution_count": 16,
      "outputs": [
        {
          "output_type": "stream",
          "name": "stdout",
          "text": [
            "Bagging (RF) Accuracy: 0.7272727272727273\n",
            "AdaBoost Accuracy: 0.7402597402597403\n",
            "Gradient Boosting Accuracy: 0.7402597402597403\n",
            "XGBoost Accuracy: 0.7597402597402597\n"
          ]
        }
      ]
    },
    {
      "cell_type": "markdown",
      "source": [
        "7. Visualisation part"
      ],
      "metadata": {
        "id": "mDqB9pHOhaHJ"
      }
    },
    {
      "cell_type": "code",
      "source": [
        "import matplotlib.pyplot as plt\n",
        "import numpy as np\n",
        "from sklearn.decomposition import PCA\n",
        "\n",
        "pca = PCA(n_components=2)\n",
        "X_vis = pca.fit_transform(X_test)\n",
        "plt.scatter(X_vis[:, 0], X_vis[:, 1], c=y_test, cmap='coolwarm')\n",
        "plt.title(\"2D PCA of Diabetes Dataset\")\n",
        "plt.show()\n"
      ],
      "metadata": {
        "colab": {
          "base_uri": "https://localhost:8080/",
          "height": 452
        },
        "id": "LxX1DuHihOX0",
        "outputId": "283dd59a-aeef-4c54-d2f8-e136a03408c7"
      },
      "execution_count": 17,
      "outputs": [
        {
          "output_type": "display_data",
          "data": {
            "text/plain": [
              "<Figure size 640x480 with 1 Axes>"
            ],
            "image/png": "[encoded data removed]"
          },
          "metadata": {}
        }
      ]
    }
  ]
}